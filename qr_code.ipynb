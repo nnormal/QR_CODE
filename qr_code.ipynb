{
 "cells": [
  {
   "cell_type": "code",
   "execution_count": 1,
   "id": "223480c8",
   "metadata": {},
   "outputs": [],
   "source": [
    "import qrcode\n",
    "from PIL import Image\n",
    "from MyQR import myqr"
   ]
  },
  {
   "cell_type": "code",
   "execution_count": 2,
   "id": "c9906ad5",
   "metadata": {},
   "outputs": [
    {
     "ename": "FileNotFoundError",
     "evalue": "[Errno 2] No such file or directory: 'D:/Data sheets/hopu.jpg'",
     "output_type": "error",
     "traceback": [
      "\u001b[1;31m---------------------------------------------------------------------------\u001b[0m",
      "\u001b[1;31mFileNotFoundError\u001b[0m                         Traceback (most recent call last)",
      "Cell \u001b[1;32mIn[2], line 2\u001b[0m\n\u001b[0;32m      1\u001b[0m image \u001b[38;5;241m=\u001b[39m \u001b[38;5;124m\"\u001b[39m\u001b[38;5;124mD:/Data sheets/hopu.jpg\u001b[39m\u001b[38;5;124m\"\u001b[39m\n\u001b[1;32m----> 2\u001b[0m logo \u001b[38;5;241m=\u001b[39m \u001b[43mImage\u001b[49m\u001b[38;5;241;43m.\u001b[39;49m\u001b[43mopen\u001b[49m\u001b[43m(\u001b[49m\u001b[43mimage\u001b[49m\u001b[43m)\u001b[49m\n\u001b[0;32m      3\u001b[0m basewidth \u001b[38;5;241m=\u001b[39m \u001b[38;5;241m100\u001b[39m\n\u001b[0;32m      4\u001b[0m wpercent \u001b[38;5;241m=\u001b[39m (basewidth\u001b[38;5;241m/\u001b[39m\u001b[38;5;28mfloat\u001b[39m(logo\u001b[38;5;241m.\u001b[39msize[\u001b[38;5;241m1\u001b[39m]))\n",
      "File \u001b[1;32m~\\anaconda3\\lib\\site-packages\\PIL\\Image.py:3227\u001b[0m, in \u001b[0;36mopen\u001b[1;34m(fp, mode, formats)\u001b[0m\n\u001b[0;32m   3224\u001b[0m     filename \u001b[38;5;241m=\u001b[39m fp\n\u001b[0;32m   3226\u001b[0m \u001b[38;5;28;01mif\u001b[39;00m filename:\n\u001b[1;32m-> 3227\u001b[0m     fp \u001b[38;5;241m=\u001b[39m \u001b[43mbuiltins\u001b[49m\u001b[38;5;241;43m.\u001b[39;49m\u001b[43mopen\u001b[49m\u001b[43m(\u001b[49m\u001b[43mfilename\u001b[49m\u001b[43m,\u001b[49m\u001b[43m \u001b[49m\u001b[38;5;124;43m\"\u001b[39;49m\u001b[38;5;124;43mrb\u001b[39;49m\u001b[38;5;124;43m\"\u001b[39;49m\u001b[43m)\u001b[49m\n\u001b[0;32m   3228\u001b[0m     exclusive_fp \u001b[38;5;241m=\u001b[39m \u001b[38;5;28;01mTrue\u001b[39;00m\n\u001b[0;32m   3230\u001b[0m \u001b[38;5;28;01mtry\u001b[39;00m:\n",
      "\u001b[1;31mFileNotFoundError\u001b[0m: [Errno 2] No such file or directory: 'D:/Data sheets/hopu.jpg'"
     ]
    }
   ],
   "source": [
    "image = \"D:/Data sheets/hopu.jpg\"\n",
    "logo = Image.open(image)\n",
    "basewidth = 100\n",
    "wpercent = (basewidth/float(logo.size[1]))\n",
    "hsize = int((float(logo.size[1])*float(wpercent)))\n",
    "logo = logo.resize((basewidth, hsize), Image.ANTIALIAS)\n",
    "QRcode = qrcode.QRCode(\n",
    "  error_correction=qrcode.constants.ERROR_CORRECT_H\n",
    ")\n",
    "\n",
    "text = 'THE MASTER OF THE UNIVERSE IS IN CONTROL. HE HAS THE FRONT SIT :)'\n",
    "QRcode.add_data(text)\n",
    "QRcode.make()\n",
    "QRcolor = 'purple'\n",
    "\n",
    "QRimg = QRcode.make_image(\n",
    "  fill_color=QRcolor, back_color='white').convert('RGB')\n",
    "\n",
    "pos = ((QRimg.size[0] - logo.size[0])//2,\n",
    "       (QRimg.size[1] - logo.size[1])//2)\n",
    "QRimg.paste(logo, pos)\n",
    "\n",
    "QRimg.save('hope in weariness.png')"
   ]
  },
  {
   "cell_type": "code",
   "execution_count": 3,
   "id": "7fe63317",
   "metadata": {},
   "outputs": [
    {
     "name": "stdout",
     "output_type": "stream",
     "text": [
      "line 16: mode: byte\n"
     ]
    },
    {
     "data": {
      "text/plain": [
       "(8, 'H', 'C:\\\\Users\\\\morara\\\\hope.png')"
      ]
     },
     "execution_count": 3,
     "metadata": {},
     "output_type": "execute_result"
    }
   ],
   "source": [
    "textt = \"When we really look closely we always find answers. Here is the password [fibo3] :)\"\n",
    "logo = 'C:/Users/morara/OneDrive/Pictures/photos/smile.jpg'\n",
    "myqr.run(words = textt, picture= logo, colorized=True, save_name=('hope.png'))"
   ]
  },
  {
   "cell_type": "code",
   "execution_count": 3,
   "id": "675a95be",
   "metadata": {},
   "outputs": [],
   "source": [
    "qr = qrcode.make('hello world')\n",
    "qr.save('myQR.png')"
   ]
  }
 ],
 "metadata": {
  "kernelspec": {
   "display_name": "Python 3 (ipykernel)",
   "language": "python",
   "name": "python3"
  },
  "language_info": {
   "codemirror_mode": {
    "name": "ipython",
    "version": 3
   },
   "file_extension": ".py",
   "mimetype": "text/x-python",
   "name": "python",
   "nbconvert_exporter": "python",
   "pygments_lexer": "ipython3",
   "version": "3.9.15"
  }
 },
 "nbformat": 4,
 "nbformat_minor": 5
}
