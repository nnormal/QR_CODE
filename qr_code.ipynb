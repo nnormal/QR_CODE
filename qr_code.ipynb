{
 "cells": [
  {
   "cell_type": "code",
   "execution_count": 2,
   "id": "223480c8",
   "metadata": {},
   "outputs": [],
   "source": [
    "import qrcode\n",
    "from PIL import Image\n",
    "from MyQR import myqr"
   ]
  },
  {
   "cell_type": "code",
   "execution_count": null,
   "id": "c9906ad5",
   "metadata": {},
   "outputs": [],
   "source": [
    "image = \"path to image to be used\"\n",
    "logo = Image.open(image)\n",
    "basewidth = 100\n",
    "wpercent = (basewidth/float(logo.size[1]))\n",
    "hsize = int((float(logo.size[1])*float(wpercent)))\n",
    "logo = logo.resize((basewidth, hsize), Image.ANTIALIAS)\n",
    "QRcode = qrcode.QRCode(\n",
    "  error_correction=qrcode.constants.ERROR_CORRECT_H\n",
    ")\n",
    "\n",
    "text = 'THE MASTER OF THE UNIVERSE IS IN CONTROL. HE HAS THE FRONT SIT :)'\n",
    "QRcode.add_data(text)\n",
    "QRcode.make()\n",
    "QRcolor = 'purple'\n",
    "\n",
    "QRimg = QRcode.make_image(\n",
    "  fill_color=QRcolor, back_color='white').convert('RGB')\n",
    "\n",
    "pos = ((QRimg.size[0] - logo.size[0])//2,\n",
    "       (QRimg.size[1] - logo.size[1])//2)\n",
    "QRimg.paste(logo, pos)\n",
    "\n",
    "QRimg.save('name of the image to be saved ending with .png')"
   ]
  },
  {
   "cell_type": "code",
   "execution_count": null,
   "id": "7fe63317",
   "metadata": {},
   "outputs": [],
   "source": [
    "textt = \"When we really look closely we always find answers. Here is the password [fibo3] :)\"\n",
    "logo = 'path to image'\n",
    "myqr.run(words = textt, picture= logo, colorized=True, save_name=('name of the image to be saved ending with .png'))"
   ]
  },
  {
   "cell_type": "code",
   "execution_count": 4,
   "id": "675a95be",
   "metadata": {},
   "outputs": [],
   "source": [
    "qr = qrcode.make('hello world')\n",
    "qr.save('myQR.png')"
   ]
  }
 ],
 "metadata": {
  "kernelspec": {
   "display_name": "Python 3 (ipykernel)",
   "language": "python",
   "name": "python3"
  },
  "language_info": {
   "codemirror_mode": {
    "name": "ipython",
    "version": 3
   },
   "file_extension": ".py",
   "mimetype": "text/x-python",
   "name": "python",
   "nbconvert_exporter": "python",
   "pygments_lexer": "ipython3",
   "version": "3.11.4"
  }
 },
 "nbformat": 4,
 "nbformat_minor": 5
}
