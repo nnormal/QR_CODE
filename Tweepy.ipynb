{
 "cells": [
  {
   "cell_type": "code",
   "execution_count": 1,
   "id": "fc615b63",
   "metadata": {},
   "outputs": [
    {
     "ename": "ModuleNotFoundError",
     "evalue": "No module named 'cleantext'",
     "output_type": "error",
     "traceback": [
      "\u001b[1;31m---------------------------------------------------------------------------\u001b[0m",
      "\u001b[1;31mModuleNotFoundError\u001b[0m                       Traceback (most recent call last)",
      "Cell \u001b[1;32mIn[1], line 4\u001b[0m\n\u001b[0;32m      2\u001b[0m \u001b[38;5;28;01mimport\u001b[39;00m \u001b[38;5;21;01mtime\u001b[39;00m\n\u001b[0;32m      3\u001b[0m \u001b[38;5;28;01mimport\u001b[39;00m \u001b[38;5;21;01mmultiprocessing\u001b[39;00m \u001b[38;5;28;01mas\u001b[39;00m \u001b[38;5;21;01mmp\u001b[39;00m\n\u001b[1;32m----> 4\u001b[0m \u001b[38;5;28;01mfrom\u001b[39;00m \u001b[38;5;21;01mcleantext\u001b[39;00m \u001b[38;5;28;01mimport\u001b[39;00m clean\n",
      "\u001b[1;31mModuleNotFoundError\u001b[0m: No module named 'cleantext'"
     ]
    }
   ],
   "source": [
    "import tweepy\n",
    "import time\n",
    "import multiprocessing as mp\n",
    "from cleantext import clean"
   ]
  },
  {
   "cell_type": "code",
   "execution_count": 90,
   "id": "c53a6982",
   "metadata": {},
   "outputs": [],
   "source": [
    "consumer_key = \"bGsilUe3dRSYv5dXXJY22LIsF\"\n",
    "consumer_secret = \"QqPDWO2XrKerZdNW2erbcJKasJocmdEwDV4qTxedl7f6btIK61\"\n",
    "access_token = '1542455985217871874-hs5SBIFlyFpuUzq53UBWWEr1zl3mo7'\n",
    "access_token_secret = 'w2tSkfcGRQDVHjokR2Zu0RcNYU27njRuC8GQuHxvHvEfM'\n",
    "bearer_token = 'AAAAAAAAAAAAAAAAAAAAACfCfQEAAAAAi1eSM9fZqEYK%2FHBr3NdGNVKGvoQ%3DoYTV1osMVeXSFeQGaqfg6WntGX2zcBwqkIdegycnQMs8FL4GKB'"
   ]
  },
  {
   "cell_type": "code",
   "execution_count": 91,
   "id": "dd5c8db7",
   "metadata": {},
   "outputs": [],
   "source": [
    "client = tweepy.Client(bearer_token, consumer_key, consumer_secret, access_token, access_token_secret)"
   ]
  },
  {
   "cell_type": "code",
   "execution_count": 92,
   "id": "f15c3b4b",
   "metadata": {},
   "outputs": [],
   "source": [
    "auth = tweepy.AppAuthHandler(\n",
    "    consumer_key, consumer_secret\n",
    ")"
   ]
  },
  {
   "cell_type": "code",
   "execution_count": 93,
   "id": "9cb0b8f4",
   "metadata": {},
   "outputs": [],
   "source": [
    "api = tweepy.API(auth)"
   ]
  },
  {
   "cell_type": "code",
   "execution_count": 94,
   "id": "9de15e8d",
   "metadata": {},
   "outputs": [],
   "source": [
    "query = 'Bankman'"
   ]
  },
  {
   "cell_type": "markdown",
   "id": "70a8a9c6",
   "metadata": {},
   "source": [
    "search = [tweet for tweet in tweepy.Cursor(api.search_tweets,\n",
    "                                            q=query,\n",
    "                                          lang='en',\n",
    "                                          result_type='recent',\n",
    "                                          tweet_mode='extended').items(100)\n",
    "         ]"
   ]
  },
  {
   "cell_type": "markdown",
   "id": "63a1f999",
   "metadata": {},
   "source": [
    "def streamAPI(auth):\n",
    "        # We instantiate our listener\n",
    "        listener = stream.StreamListener()\n",
    "        # We start the streamer with the OAuth object and the listener\n",
    "        streamer = tweepy.Stream(auth=auth, listener=listener)\n",
    "        # We define the terms of which we want to track\n",
    "        targetTerms = ['python']\n",
    "        # We start the streamer, passing it our trackTerms\n",
    "        streamer.filter(track=targetTerms) "
   ]
  },
  {
   "cell_type": "code",
   "execution_count": 100,
   "id": "a76ae69d",
   "metadata": {},
   "outputs": [],
   "source": [
    "class MyStream(tweepy.StreamingClient):\n",
    "    def on_connect(self):\n",
    "        print('connected')\n",
    "        \n",
    "    def on_tweet(self, tweet):\n",
    "        if tweet.referenced_tweets == None:\n",
    "            print(tweet.text)\n",
    "            tweets.append(tweet.text)\n",
    "    \n",
    "            time.sleep(0.2)"
   ]
  },
  {
   "cell_type": "code",
   "execution_count": null,
   "id": "fd78a1b5",
   "metadata": {},
   "outputs": [],
   "source": [
    "tweets = []\n",
    "if  __name__=='__main__':\n",
    "    runtime = 10\n",
    "    stream = MyStream(bearer_token=bearer_token)\n",
    "    stream.add_rules(tweepy.StreamRule(query))\n",
    "    tw = stream.filter(tweet_fields=['referenced_tweets'])\n",
    "    time.sleep(runtime)\n",
    "    tweets.append(tw)\n",
    "    stream.disconnect()\n",
    "    print(67892)"
   ]
  }
 ],
 "metadata": {
  "kernelspec": {
   "display_name": "Python 3 (ipykernel)",
   "language": "python",
   "name": "python3"
  },
  "language_info": {
   "codemirror_mode": {
    "name": "ipython",
    "version": 3
   },
   "file_extension": ".py",
   "mimetype": "text/x-python",
   "name": "python",
   "nbconvert_exporter": "python",
   "pygments_lexer": "ipython3",
   "version": "3.10.9"
  }
 },
 "nbformat": 4,
 "nbformat_minor": 5
}
