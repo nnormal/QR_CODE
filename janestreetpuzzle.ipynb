{
 "cells": [
  {
   "cell_type": "code",
   "execution_count": 105,
   "id": "00bac781",
   "metadata": {},
   "outputs": [],
   "source": [
    "import pandas as pd"
   ]
  },
  {
   "cell_type": "code",
   "execution_count": null,
   "id": "1632f9c0",
   "metadata": {},
   "outputs": [],
   "source": [
    "from mega.mega import Mega\n",
    "mg = Mega()\n",
    "mg._login_user('morara360@gmail.com', 'kabatimega')\n",
    "folder = mg.find('Documents')\n",
    "mg.upload('C:/Users/morara/janestreetpuzzle.ipynb', folder)"
   ]
  },
  {
   "cell_type": "code",
   "execution_count": null,
   "id": "898410b5",
   "metadata": {},
   "outputs": [],
   "source": [
    "for (a, b, c, d):\n",
    "    count = 1\n",
    "    a, b, c, d = a, b, c, d\n",
    "    n_a = a-b\n",
    "    n_b = b-c\n",
    "    n_c = c-d\n",
    "    n_d = d-a\n",
    "    a = n_a\n",
    "    b = n_b\n",
    "    c = n_c\n",
    "    d = n_d\n",
    "    count +=1\n",
    "    if count==10:\n",
    "        break"
   ]
  },
  {
   "cell_type": "code",
   "execution_count": 212,
   "id": "d5dec3d9",
   "metadata": {
    "scrolled": false
   },
   "outputs": [],
   "source": [
    "#a, b, c, d = 16, 8, 4, 1\n",
    "def func_(numb, filt):\n",
    "    lst1 = []\n",
    "    lst22 = []\n",
    "    #numb = 13\n",
    "    for u in range(1, numb+1):\n",
    "        for x in range(1, numb+1):\n",
    "            for y in range(1, numb+1):\n",
    "                for z in range(1, numb+1):\n",
    "                    a, b, c, d = numb, x, y, z\n",
    "                    count = 0\n",
    "                    while True:\n",
    "                        #print(a, b, c, d)\n",
    "                        #lst1.append((a, b, c, d))\n",
    "                        #lst2.append(count)\n",
    "                        n_a = abs(a-b)\n",
    "                        n_b = abs(b-c)\n",
    "                        n_c = abs(c-d)\n",
    "                        n_d = abs(d-a)\n",
    "                        a, b, c, d = n_a, n_b, n_c, n_d\n",
    "                        count +=1\n",
    "                        #print(a, b, c, d)\n",
    "                        if (a, b, c, d)==(0, 0, 0, 0):\n",
    "                            lst1.append((u, x, y, z))\n",
    "                            lst22.append(count)\n",
    "                            #print(u, x, y, z)\n",
    "                            #print(count)\n",
    "                            break\n",
    "\n",
    "    df = pd.DataFrame(list(zip(lst1, lst22)), columns=['numbers', 'f'])\n",
    "    mask = df['f']>=filt\n",
    "    return df[mask].head(20)"
   ]
  },
  {
   "cell_type": "code",
   "execution_count": 215,
   "id": "d036ed44",
   "metadata": {},
   "outputs": [
    {
     "ename": "KeyboardInterrupt",
     "evalue": "",
     "output_type": "error",
     "traceback": [
      "\u001b[1;31m---------------------------------------------------------------------------\u001b[0m",
      "\u001b[1;31mKeyboardInterrupt\u001b[0m                         Traceback (most recent call last)",
      "Cell \u001b[1;32mIn[215], line 2\u001b[0m\n\u001b[0;32m      1\u001b[0m a, b \u001b[38;5;241m=\u001b[39m \u001b[38;5;241m100\u001b[39m, \u001b[38;5;241m11\u001b[39m\n\u001b[1;32m----> 2\u001b[0m func_(a, b)\n",
      "File \u001b[1;32m~\\anaconda3\\lib\\site-packages\\IPython\\core\\displayhook.py:259\u001b[0m, in \u001b[0;36mDisplayHook.__call__\u001b[1;34m(self, result)\u001b[0m\n\u001b[0;32m    253\u001b[0m \u001b[38;5;250m\u001b[39m\u001b[38;5;124;03m\"\"\"Printing with history cache management.\u001b[39;00m\n\u001b[0;32m    254\u001b[0m \n\u001b[0;32m    255\u001b[0m \u001b[38;5;124;03mThis is invoked every time the interpreter needs to print, and is\u001b[39;00m\n\u001b[0;32m    256\u001b[0m \u001b[38;5;124;03mactivated by setting the variable sys.displayhook to it.\u001b[39;00m\n\u001b[0;32m    257\u001b[0m \u001b[38;5;124;03m\"\"\"\u001b[39;00m\n\u001b[0;32m    258\u001b[0m \u001b[38;5;28mself\u001b[39m\u001b[38;5;241m.\u001b[39mcheck_for_underscore()\n\u001b[1;32m--> 259\u001b[0m \u001b[38;5;28;01mif\u001b[39;00m result \u001b[38;5;129;01mis\u001b[39;00m \u001b[38;5;129;01mnot\u001b[39;00m \u001b[38;5;28;01mNone\u001b[39;00m \u001b[38;5;129;01mand\u001b[39;00m \u001b[38;5;129;01mnot\u001b[39;00m \u001b[38;5;28;43mself\u001b[39;49m\u001b[38;5;241;43m.\u001b[39;49m\u001b[43mquiet\u001b[49m\u001b[43m(\u001b[49m\u001b[43m)\u001b[49m:\n\u001b[0;32m    260\u001b[0m     \u001b[38;5;28mself\u001b[39m\u001b[38;5;241m.\u001b[39mstart_displayhook()\n\u001b[0;32m    261\u001b[0m     \u001b[38;5;28mself\u001b[39m\u001b[38;5;241m.\u001b[39mwrite_output_prompt()\n",
      "File \u001b[1;32m~\\anaconda3\\lib\\site-packages\\IPython\\core\\displayhook.py:89\u001b[0m, in \u001b[0;36mDisplayHook.quiet\u001b[1;34m(self)\u001b[0m\n\u001b[0;32m     86\u001b[0m \u001b[38;5;66;03m# do not print output if input ends in ';'\u001b[39;00m\n\u001b[0;32m     88\u001b[0m \u001b[38;5;28;01mtry\u001b[39;00m:\n\u001b[1;32m---> 89\u001b[0m     cell \u001b[38;5;241m=\u001b[39m \u001b[38;5;28;43mself\u001b[39;49m\u001b[38;5;241;43m.\u001b[39;49m\u001b[43mshell\u001b[49m\u001b[38;5;241m.\u001b[39mhistory_manager\u001b[38;5;241m.\u001b[39minput_hist_parsed[\u001b[38;5;241m-\u001b[39m\u001b[38;5;241m1\u001b[39m]\n\u001b[0;32m     90\u001b[0m \u001b[38;5;28;01mexcept\u001b[39;00m \u001b[38;5;167;01mIndexError\u001b[39;00m:\n\u001b[0;32m     91\u001b[0m     \u001b[38;5;66;03m# some uses of ipshellembed may fail here\u001b[39;00m\n\u001b[0;32m     92\u001b[0m     \u001b[38;5;28;01mreturn\u001b[39;00m \u001b[38;5;28;01mFalse\u001b[39;00m\n",
      "File \u001b[1;32m~\\anaconda3\\lib\\site-packages\\traitlets\\traitlets.py:703\u001b[0m, in \u001b[0;36mTraitType.__get__\u001b[1;34m(self, obj, cls)\u001b[0m\n\u001b[0;32m    701\u001b[0m     \u001b[38;5;28;01mreturn\u001b[39;00m \u001b[38;5;28mself\u001b[39m\n\u001b[0;32m    702\u001b[0m \u001b[38;5;28;01melse\u001b[39;00m:\n\u001b[1;32m--> 703\u001b[0m     \u001b[38;5;28;01mreturn\u001b[39;00m \u001b[38;5;28;43mself\u001b[39;49m\u001b[38;5;241;43m.\u001b[39;49m\u001b[43mget\u001b[49m(obj, \u001b[38;5;28mcls\u001b[39m)\n",
      "\u001b[1;31mKeyboardInterrupt\u001b[0m: "
     ]
    }
   ],
   "source": [
    "a, b = 100, 11\n",
    "func_(a, b)"
   ]
  }
 ],
 "metadata": {
  "kernelspec": {
   "display_name": "Python 3 (ipykernel)",
   "language": "python",
   "name": "python3"
  },
  "language_info": {
   "codemirror_mode": {
    "name": "ipython",
    "version": 3
   },
   "file_extension": ".py",
   "mimetype": "text/x-python",
   "name": "python",
   "nbconvert_exporter": "python",
   "pygments_lexer": "ipython3",
   "version": "3.9.15"
  }
 },
 "nbformat": 4,
 "nbformat_minor": 5
}
