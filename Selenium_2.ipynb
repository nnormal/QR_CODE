{
 "cells": [
  {
   "cell_type": "code",
   "execution_count": 38,
   "id": "fc31c46f",
   "metadata": {},
   "outputs": [],
   "source": [
    "from selenium import webdriver\n",
    "from selenium.webdriver.common.by import By"
   ]
  },
  {
   "cell_type": "code",
   "execution_count": 111,
   "id": "f5dbfa43",
   "metadata": {},
   "outputs": [],
   "source": [
    "driver = webdriver.Chrome()"
   ]
  },
  {
   "cell_type": "code",
   "execution_count": 120,
   "id": "95423418",
   "metadata": {},
   "outputs": [],
   "source": [
    "driver.get('https://tenders.go.ke/Tenderdetails')"
   ]
  },
  {
   "cell_type": "code",
   "execution_count": 63,
   "id": "023dd420",
   "metadata": {},
   "outputs": [],
   "source": [
    "tag = driver.find_elements(By.TAG_NAME, \"td\")"
   ]
  },
  {
   "cell_type": "code",
   "execution_count": 115,
   "id": "a7d00a71",
   "metadata": {},
   "outputs": [],
   "source": [
    "name = driver.find_element(By.XPATH, \"(//div[@title='Go to next page'])[1]\").click()\n",
    "tag = driver.find_elements(By.TAG_NAME, \"td\")"
   ]
  },
  {
   "cell_type": "code",
   "execution_count": 121,
   "id": "08cc72cd",
   "metadata": {
    "scrolled": true
   },
   "outputs": [],
   "source": [
    "tenders = []\n",
    "count =1\n",
    "for count in range(1, 21):\n",
    "    if count==1:\n",
    "        tag = driver.find_elements(By.TAG_NAME, \"td\")\n",
    "        for j in tag:\n",
    "            if j.text!='':\n",
    "                tenders.append(j.text)\n",
    "    else: \n",
    "        name = driver.find_element(By.XPATH, \"(//div[@title='Go to next page'])[1]\").click()\n",
    "        tag = driver.find_elements(By.TAG_NAME, \"td\")\n",
    "        for k in tag:\n",
    "            if k.text!='':\n",
    "                tenders.append(k.text)\n",
    "            count+=1"
   ]
  },
  {
   "cell_type": "code",
   "execution_count": 128,
   "id": "e5c9c691",
   "metadata": {},
   "outputs": [],
   "source": [
    "import math\n",
    "import pandas as pd"
   ]
  },
  {
   "cell_type": "code",
   "execution_count": 168,
   "id": "fe2ec986",
   "metadata": {},
   "outputs": [],
   "source": [
    "dict_ = {}\n",
    "for i in range(math.ceil(len(tenders)/9)):\n",
    "    dict_.setdefault('Tender No', []).append(tenders[i*9])\n",
    "    dict_.setdefault('Title', []).append(tenders[i*9+1])\n",
    "    dict_.setdefault('Contracting Entity', []).append(tenders[i*9+2])\n",
    "    dict_.setdefault('Nature', []).append(tenders[i*9+3])\n",
    "    dict_.setdefault('Type', []).append(tenders[i*9+4])\n",
    "    dict_.setdefault('Closing Date', []).append(tenders[i*9+5])\n",
    "    dict_.setdefault('Opening Date', []).append(tenders[i*9+6])"
   ]
  },
  {
   "cell_type": "code",
   "execution_count": 169,
   "id": "c5c9e109",
   "metadata": {},
   "outputs": [],
   "source": [
    "df = pd.DataFrame(dict_, index=range(200))"
   ]
  },
  {
   "cell_type": "code",
   "execution_count": 171,
   "id": "902bbafc",
   "metadata": {},
   "outputs": [],
   "source": [
    "df.to_excel('tenders.xlsx', index=False)"
   ]
  }
 ],
 "metadata": {
  "kernelspec": {
   "display_name": "Python 3 (ipykernel)",
   "language": "python",
   "name": "python3"
  },
  "language_info": {
   "codemirror_mode": {
    "name": "ipython",
    "version": 3
   },
   "file_extension": ".py",
   "mimetype": "text/x-python",
   "name": "python",
   "nbconvert_exporter": "python",
   "pygments_lexer": "ipython3",
   "version": "3.9.17"
  }
 },
 "nbformat": 4,
 "nbformat_minor": 5
}
