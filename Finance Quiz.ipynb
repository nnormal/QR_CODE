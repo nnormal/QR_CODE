{
 "cells": [
  {
   "cell_type": "code",
   "execution_count": 1,
   "id": "8f9976b9",
   "metadata": {},
   "outputs": [
    {
     "name": "stdout",
     "output_type": "stream",
     "text": [
      "[3, 5, 7, 11, 13, 17, 19, 2, 3, 5, 7, 11, 13, 17]\n"
     ]
    }
   ],
   "source": [
    "primes = [2,3,5,7,11,13,17,19]\n",
    "x = [i for i in primes[1:]] + [j for j in primes[:7]]\n",
    "print(x)"
   ]
  },
  {
   "cell_type": "code",
   "execution_count": 3,
   "id": "6245bcd7",
   "metadata": {},
   "outputs": [
    {
     "name": "stdout",
     "output_type": "stream",
     "text": [
      "6\n",
      "5\n",
      "10\n",
      "9\n",
      "18\n"
     ]
    }
   ],
   "source": [
    "x = 3\n",
    "while x<11:\n",
    "    if x%2==0:\n",
    "        x=x-1\n",
    "        \n",
    "    else:\n",
    "        x=x*2\n",
    "    \n",
    "    print(x)"
   ]
  },
  {
   "cell_type": "code",
   "execution_count": 4,
   "id": "a7f4f0ef",
   "metadata": {},
   "outputs": [
    {
     "ename": "NameError",
     "evalue": "name 'math' is not defined",
     "output_type": "error",
     "traceback": [
      "\u001b[1;31m---------------------------------------------------------------------------\u001b[0m",
      "\u001b[1;31mNameError\u001b[0m                                 Traceback (most recent call last)",
      "Input \u001b[1;32mIn [4]\u001b[0m, in \u001b[0;36m<cell line: 2>\u001b[1;34m()\u001b[0m\n\u001b[0;32m      1\u001b[0m \u001b[38;5;28;01mfrom\u001b[39;00m \u001b[38;5;21;01mmath\u001b[39;00m \u001b[38;5;28;01mimport\u001b[39;00m \u001b[38;5;241m*\u001b[39m \n\u001b[1;32m----> 2\u001b[0m \u001b[43mmath\u001b[49m\u001b[38;5;241m.\u001b[39mexp(\u001b[38;5;241m1\u001b[39m)\n",
      "\u001b[1;31mNameError\u001b[0m: name 'math' is not defined"
     ]
    }
   ],
   "source": [
    "from math import * \n",
    "math.exp(1)"
   ]
  },
  {
   "cell_type": "code",
   "execution_count": 1,
   "id": "ab423de2",
   "metadata": {},
   "outputs": [],
   "source": [
    "def func(x, y):\n",
    "    if (x==0):\n",
    "        return y\n",
    "    else:\n",
    "        return func(x-1, x-y)"
   ]
  },
  {
   "cell_type": "code",
   "execution_count": 2,
   "id": "fd920d76",
   "metadata": {},
   "outputs": [
    {
     "data": {
      "text/plain": [
       "5"
      ]
     },
     "execution_count": 2,
     "metadata": {},
     "output_type": "execute_result"
    }
   ],
   "source": [
    "func(4, 7)"
   ]
  },
  {
   "cell_type": "code",
   "execution_count": 7,
   "id": "bd98dc4f",
   "metadata": {},
   "outputs": [
    {
     "name": "stdout",
     "output_type": "stream",
     "text": [
      "{1, 2, 3, 5, 7}\n"
     ]
    }
   ],
   "source": [
    "a = {1, 2, 3}\n",
    "b = {1, 3, 4, 5}\n",
    "c = {1, 2, 5, 7}\n",
    "\n",
    "print(a & b | c)"
   ]
  },
  {
   "cell_type": "code",
   "execution_count": 3,
   "id": "fa66e2a7",
   "metadata": {
    "scrolled": true
   },
   "outputs": [
    {
     "name": "stdout",
     "output_type": "stream",
     "text": [
      "dlroW olleH\n"
     ]
    }
   ],
   "source": [
    "print(\"Hello World\"[::-1])"
   ]
  },
  {
   "cell_type": "code",
   "execution_count": 4,
   "id": "0dd234d6",
   "metadata": {
    "scrolled": true
   },
   "outputs": [
    {
     "name": "stdout",
     "output_type": "stream",
     "text": [
      "{1, 2, 3, 4}\n"
     ]
    }
   ],
   "source": [
    "set = {3,4,2,3,1}\n",
    "print(set)"
   ]
  },
  {
   "cell_type": "code",
   "execution_count": 5,
   "id": "f2586b93",
   "metadata": {},
   "outputs": [],
   "source": [
    "x = [1,[2]]\n",
    "y = list(x)\n",
    "x[0]= -1\n",
    "x[1][0]= -1"
   ]
  },
  {
   "cell_type": "code",
   "execution_count": 6,
   "id": "8842eac0",
   "metadata": {},
   "outputs": [
    {
     "data": {
      "text/plain": [
       "[1, [-1]]"
      ]
     },
     "execution_count": 6,
     "metadata": {},
     "output_type": "execute_result"
    }
   ],
   "source": [
    "y"
   ]
  }
 ],
 "metadata": {
  "kernelspec": {
   "display_name": "Python 3 (ipykernel)",
   "language": "python",
   "name": "python3"
  },
  "language_info": {
   "codemirror_mode": {
    "name": "ipython",
    "version": 3
   },
   "file_extension": ".py",
   "mimetype": "text/x-python",
   "name": "python",
   "nbconvert_exporter": "python",
   "pygments_lexer": "ipython3",
   "version": "3.9.12"
  }
 },
 "nbformat": 4,
 "nbformat_minor": 5
}
