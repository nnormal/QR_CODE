{
 "cells": [
  {
   "cell_type": "code",
   "execution_count": 7,
   "id": "ba19d392",
   "metadata": {},
   "outputs": [],
   "source": [
    "from selenium import webdriver\n",
    "from selenium.webdriver.common.by import By\n",
    "from selenium.webdriver import Keys\n",
    "from selenium.webdriver.support.wait import WebDriverWait\n",
    "from selenium.webdriver.support import expected_conditions as EC\n",
    "from selenium.webdriver.chrome.options import Options\n",
    "from selenium.webdriver.common.action_chains import ActionChains\n",
    "from collections import defaultdict\n",
    "import urllib\n",
    "import yagmail\n",
    "import pandas as pd\n",
    "from datetime import datetime\n",
    "import time"
   ]
  },
  {
   "cell_type": "code",
   "execution_count": 8,
   "id": "eed819cf",
   "metadata": {},
   "outputs": [],
   "source": [
    "options = Options()\n",
    "options.add_argument('--headless')\n",
    "options.add_argument('--sandbox')"
   ]
  },
  {
   "cell_type": "code",
   "execution_count": 9,
   "id": "c556eb99",
   "metadata": {},
   "outputs": [],
   "source": [
    "driver2 = webdriver.Chrome(options=options)\n",
    "wait2_ = WebDriverWait(driver2, 3)\n",
    "driver2.get(\"https://tenders.go.ke/OpenTenders\")"
   ]
  },
  {
   "cell_type": "code",
   "execution_count": 10,
   "id": "667c7aa2",
   "metadata": {},
   "outputs": [],
   "source": [
    "options_2 = Options()\n",
    "options_2.add_argument('--headless')\n",
    "options_2.add_argument('--sandbox')"
   ]
  },
  {
   "cell_type": "code",
   "execution_count": 11,
   "id": "34416539",
   "metadata": {},
   "outputs": [],
   "source": [
    "driver3 = webdriver.Chrome()\n",
    "wait3_ = WebDriverWait(driver3, 3)\n",
    "driver3.get(\"https://tenders.go.ke/OpenTenders\")"
   ]
  },
  {
   "cell_type": "code",
   "execution_count": 12,
   "id": "57a03480",
   "metadata": {},
   "outputs": [
    {
     "name": "stdout",
     "output_type": "stream",
     "text": [
      "1 3\n",
      "1 4\n",
      "5 3\n",
      "5 33\n",
      "5 35\n",
      "10 43\n"
     ]
    }
   ],
   "source": [
    "lst_ = []\n",
    "dict_ = defaultdict(list)\n",
    "tender_index = []\n",
    "page_no = []\n",
    "index_ = []\n",
    "for a in range(1, 11):\n",
    "    wait2_.until(EC.element_to_be_clickable((By.XPATH, f\"//a[normalize-space()='{a}']\"))).click()\n",
    "    WebDriverWait(driver3, 10).until(EC.element_to_be_clickable((By.XPATH, f\"//a[normalize-space()='{a}']\"))).click()\n",
    "    \n",
    "    driver2.find_elements(By.TAG_NAME,\"td\")\n",
    "    lst_ = []\n",
    "    for tender in driver2.find_elements(By.TAG_NAME,\"td\"):\n",
    "        if tender.text!='':\n",
    "            lst_.append(tender.text)\n",
    "    for i, item in enumerate(lst_):\n",
    "              if any(keyword in item.upper() for keyword in [\"ERP\", \"DATA\", \"FORENSICS\", \"ANALYTICS\", \"RISK\", \"AUDIT\"]):\n",
    "                dict_[\"Tender_NO\"].append(lst_[i-1])\n",
    "                dict_[\"Tender_Describtion\"].append(lst_[i])\n",
    "                dict_[\"PE\"].append(lst_[1+i])\n",
    "                dict_[\"Project_Cartegory\"].append(lst_[2+i])\n",
    "                dict_[\"Procurement_Method\"].append(lst_[3+i])\n",
    "                dict_[\"Closing_Date\"].append(lst_[4+i])\n",
    "                dict_[\"Published_Date\"].append(lst_[5+i])\n",
    "                dict_[\"Page_No\"].append(a)\n",
    "                dict_[\"Index_NO\"].append(int((i-1)/9+1))\n",
    "                \n",
    "                #Download Viable Tender\n",
    "                print(a, int((i-1)/9+1))\n",
    "                \n",
    "                \n",
    "                tender1_ = WebDriverWait(driver3, 10).until(EC.element_to_be_clickable((By.XPATH, f\"(//b[contains(text(),'View')])[{int((i-1)/9+1)}]\")))\n",
    "                ActionChains(driver3).move_to_element(tender1_).click(tender1_).perform()\n",
    "                wait3_.until(EC.element_to_be_clickable((By.XPATH, \"//td[normalize-space()='View']\"))).click()\n",
    "                driver3.implicitly_wait(5)\n",
    "                driver3.switch_to.window(driver3.window_handles[-1])\n",
    "                urllib.request.urlretrieve(driver3.current_url, f\"{lst_[i]}.pdf\")\n",
    "                driver3.quit()\n",
    "                time.sleep(3)\n",
    "                driver3 = webdriver.Chrome()\n",
    "                wait3_ = WebDriverWait(driver3, 3)\n",
    "                driver3.get(\"https://tenders.go.ke/OpenTenders\")\n",
    "            \n",
    "\n",
    "driver2.quit()\n",
    "driver3.quit()"
   ]
  },
  {
   "cell_type": "code",
   "execution_count": 44,
   "id": "33c45f31",
   "metadata": {},
   "outputs": [
    {
     "data": {
      "text/plain": [
       "300.0"
      ]
     },
     "execution_count": 44,
     "metadata": {},
     "output_type": "execute_result"
    }
   ],
   "source": [
    "len(lst_)/9"
   ]
  },
  {
   "cell_type": "code",
   "execution_count": 45,
   "id": "c48ac3fa",
   "metadata": {},
   "outputs": [
    {
     "data": {
      "text/plain": [
       "[221, 221]"
      ]
     },
     "execution_count": 45,
     "metadata": {},
     "output_type": "execute_result"
    }
   ],
   "source": [
    "index_"
   ]
  },
  {
   "cell_type": "code",
   "execution_count": 127,
   "id": "a3ee3ba2",
   "metadata": {},
   "outputs": [
    {
     "ename": "TimeoutException",
     "evalue": "Message: \nStacktrace:\nBacktrace:\n\tGetHandleVerifier [0x00007FF74F304A62+57106]\n\t(No symbol) [0x00007FF74F27CF52]\n\t(No symbol) [0x00007FF74F14E2CB]\n\t(No symbol) [0x00007FF74F18786E]\n\t(No symbol) [0x00007FF74F18795C]\n\t(No symbol) [0x00007FF74F1C0477]\n\t(No symbol) [0x00007FF74F1A69FF]\n\t(No symbol) [0x00007FF74F1BE522]\n\t(No symbol) [0x00007FF74F1A6793]\n\t(No symbol) [0x00007FF74F17CE81]\n\t(No symbol) [0x00007FF74F17E064]\n\tGetHandleVerifier [0x00007FF74F5B4222+2873042]\n\tGetHandleVerifier [0x00007FF74F606590+3209792]\n\tGetHandleVerifier [0x00007FF74F5FF3AF+3180639]\n\tGetHandleVerifier [0x00007FF74F395F25+652245]\n\t(No symbol) [0x00007FF74F288618]\n\t(No symbol) [0x00007FF74F2847C4]\n\t(No symbol) [0x00007FF74F2848BC]\n\t(No symbol) [0x00007FF74F274C33]\n\tBaseThreadInitThunk [0x00007FFD3FE574B4+20]\n\tRtlUserThreadStart [0x00007FFD401A26A1+33]\n",
     "output_type": "error",
     "traceback": [
      "\u001b[1;31m---------------------------------------------------------------------------\u001b[0m",
      "\u001b[1;31mTimeoutException\u001b[0m                          Traceback (most recent call last)",
      "Cell \u001b[1;32mIn[127], line 5\u001b[0m\n\u001b[0;32m      3\u001b[0m wait3_ \u001b[38;5;241m=\u001b[39m WebDriverWait(driver3, \u001b[38;5;241m5\u001b[39m)\n\u001b[0;32m      4\u001b[0m driver3\u001b[38;5;241m.\u001b[39mget(\u001b[38;5;124m\"\u001b[39m\u001b[38;5;124mhttps://tenders.go.ke/OpenTenders\u001b[39m\u001b[38;5;124m\"\u001b[39m)\n\u001b[1;32m----> 5\u001b[0m wait3_\u001b[38;5;241m.\u001b[39muntil(EC\u001b[38;5;241m.\u001b[39melement_to_be_clickable((By\u001b[38;5;241m.\u001b[39mXPATH, \u001b[38;5;124mf\u001b[39m\u001b[38;5;124m\"\u001b[39m\u001b[38;5;124m//a[normalize-space()=\u001b[39m\u001b[38;5;124m'\u001b[39m\u001b[38;5;132;01m{\u001b[39;00mb\u001b[38;5;132;01m}\u001b[39;00m\u001b[38;5;124m'\u001b[39m\u001b[38;5;124m]\u001b[39m\u001b[38;5;124m\"\u001b[39m)))\u001b[38;5;241m.\u001b[39mclick()\n\u001b[0;32m      6\u001b[0m driver3\u001b[38;5;241m.\u001b[39mimplicitly_wait(\u001b[38;5;241m10\u001b[39m)\n\u001b[0;32m      7\u001b[0m wait3_\u001b[38;5;241m.\u001b[39muntil(EC\u001b[38;5;241m.\u001b[39melement_to_be_clickable((By\u001b[38;5;241m.\u001b[39mXPATH, \u001b[38;5;124mf\u001b[39m\u001b[38;5;124m\"\u001b[39m\u001b[38;5;124m//tbody/tr[\u001b[39m\u001b[38;5;132;01m{\u001b[39;00mc\u001b[38;5;241m%\u001b[39m\u001b[38;5;241m50\u001b[39m\u001b[38;5;132;01m}\u001b[39;00m\u001b[38;5;124m]/td[9]/div[1]/b[1]\u001b[39m\u001b[38;5;124m\"\u001b[39m)))\u001b[38;5;241m.\u001b[39mclick()\n",
      "File \u001b[1;32m~\\anaconda3\\envs\\analytics\\Lib\\site-packages\\selenium\\webdriver\\support\\wait.py:95\u001b[0m, in \u001b[0;36mWebDriverWait.until\u001b[1;34m(self, method, message)\u001b[0m\n\u001b[0;32m     93\u001b[0m     \u001b[38;5;28;01mif\u001b[39;00m time\u001b[38;5;241m.\u001b[39mmonotonic() \u001b[38;5;241m>\u001b[39m end_time:\n\u001b[0;32m     94\u001b[0m         \u001b[38;5;28;01mbreak\u001b[39;00m\n\u001b[1;32m---> 95\u001b[0m \u001b[38;5;28;01mraise\u001b[39;00m TimeoutException(message, screen, stacktrace)\n",
      "\u001b[1;31mTimeoutException\u001b[0m: Message: \nStacktrace:\nBacktrace:\n\tGetHandleVerifier [0x00007FF74F304A62+57106]\n\t(No symbol) [0x00007FF74F27CF52]\n\t(No symbol) [0x00007FF74F14E2CB]\n\t(No symbol) [0x00007FF74F18786E]\n\t(No symbol) [0x00007FF74F18795C]\n\t(No symbol) [0x00007FF74F1C0477]\n\t(No symbol) [0x00007FF74F1A69FF]\n\t(No symbol) [0x00007FF74F1BE522]\n\t(No symbol) [0x00007FF74F1A6793]\n\t(No symbol) [0x00007FF74F17CE81]\n\t(No symbol) [0x00007FF74F17E064]\n\tGetHandleVerifier [0x00007FF74F5B4222+2873042]\n\tGetHandleVerifier [0x00007FF74F606590+3209792]\n\tGetHandleVerifier [0x00007FF74F5FF3AF+3180639]\n\tGetHandleVerifier [0x00007FF74F395F25+652245]\n\t(No symbol) [0x00007FF74F288618]\n\t(No symbol) [0x00007FF74F2847C4]\n\t(No symbol) [0x00007FF74F2848BC]\n\t(No symbol) [0x00007FF74F274C33]\n\tBaseThreadInitThunk [0x00007FFD3FE574B4+20]\n\tRtlUserThreadStart [0x00007FFD401A26A1+33]\n"
     ]
    }
   ],
   "source": [
    "for b, c in zip(page_no, index_):\n",
    "    driver3 = webdriver.Chrome()\n",
    "    wait3_ = WebDriverWait(driver3, 5)\n",
    "    driver3.get(\"https://tenders.go.ke/OpenTenders\")\n",
    "    wait3_.until(EC.element_to_be_clickable((By.XPATH, f\"//a[normalize-space()='{b}']\"))).click()\n",
    "    driver3.implicitly_wait(10)\n",
    "    wait3_.until(EC.element_to_be_clickable((By.XPATH, f\"//tbody/tr[{c%50}]/td[9]/div[1]/b[1]\"))).click()\n",
    "    wait3_.until(EC.element_to_be_clickable((By.XPATH, \"//td[normalize-space()='View']\"))).click()\n",
    "    driver3.switch_to.window(driver3.window_handles[-1])\n",
    "    urllib.request.urlretrieve(driver3.current_url, f\"{lst_[1+x*9]}.pdf\")"
   ]
  },
  {
   "cell_type": "code",
   "execution_count": 111,
   "id": "cbf6ae70",
   "metadata": {},
   "outputs": [
    {
     "ename": "ElementClickInterceptedException",
     "evalue": "Message: element click intercepted: Element <b style=\"color: blue; cursor: pointer;\">...</b> is not clickable at point (992, 7). Other element would receive the click: <nav class=\"navbar navbar-expand-lg ftco-navbar-light fixed-top\" id=\"ftco-navbar\">...</nav>\n  (Session info: chrome=115.0.5790.171)\nStacktrace:\nBacktrace:\n\tGetHandleVerifier [0x00007FF74F304A62+57106]\n\t(No symbol) [0x00007FF74F27CF52]\n\t(No symbol) [0x00007FF74F14E2CB]\n\t(No symbol) [0x00007FF74F18D290]\n\t(No symbol) [0x00007FF74F18B90D]\n\t(No symbol) [0x00007FF74F1898F5]\n\t(No symbol) [0x00007FF74F188B05]\n\t(No symbol) [0x00007FF74F17EE2F]\n\t(No symbol) [0x00007FF74F1A69BA]\n\t(No symbol) [0x00007FF74F17E746]\n\t(No symbol) [0x00007FF74F1A6BD0]\n\t(No symbol) [0x00007FF74F1BE522]\n\t(No symbol) [0x00007FF74F1A6793]\n\t(No symbol) [0x00007FF74F17CE81]\n\t(No symbol) [0x00007FF74F17E064]\n\tGetHandleVerifier [0x00007FF74F5B4222+2873042]\n\tGetHandleVerifier [0x00007FF74F606590+3209792]\n\tGetHandleVerifier [0x00007FF74F5FF3AF+3180639]\n\tGetHandleVerifier [0x00007FF74F395F25+652245]\n\t(No symbol) [0x00007FF74F288618]\n\t(No symbol) [0x00007FF74F2847C4]\n\t(No symbol) [0x00007FF74F2848BC]\n\t(No symbol) [0x00007FF74F274C33]\n\tBaseThreadInitThunk [0x00007FFD3FE574B4+20]\n\tRtlUserThreadStart [0x00007FFD401A26A1+33]\n",
     "output_type": "error",
     "traceback": [
      "\u001b[1;31m---------------------------------------------------------------------------\u001b[0m",
      "\u001b[1;31mElementClickInterceptedException\u001b[0m          Traceback (most recent call last)",
      "Cell \u001b[1;32mIn[111], line 3\u001b[0m\n\u001b[0;32m      1\u001b[0m \u001b[38;5;28;01mfor\u001b[39;00m b, c \u001b[38;5;129;01min\u001b[39;00m \u001b[38;5;28mzip\u001b[39m(page_no, index_):\n\u001b[0;32m      2\u001b[0m     wait3_\u001b[38;5;241m.\u001b[39muntil(EC\u001b[38;5;241m.\u001b[39melement_to_be_clickable((By\u001b[38;5;241m.\u001b[39mXPATH, \u001b[38;5;124mf\u001b[39m\u001b[38;5;124m\"\u001b[39m\u001b[38;5;124m//a[normalize-space()=\u001b[39m\u001b[38;5;124m'\u001b[39m\u001b[38;5;132;01m{\u001b[39;00mb\u001b[38;5;132;01m}\u001b[39;00m\u001b[38;5;124m'\u001b[39m\u001b[38;5;124m]\u001b[39m\u001b[38;5;124m\"\u001b[39m)))\u001b[38;5;241m.\u001b[39mclick()\n\u001b[1;32m----> 3\u001b[0m     WebDriverWait(driver3, \u001b[38;5;241m60\u001b[39m)\u001b[38;5;241m.\u001b[39muntil(EC\u001b[38;5;241m.\u001b[39melement_to_be_clickable((By\u001b[38;5;241m.\u001b[39mXPATH, \u001b[38;5;124mf\u001b[39m\u001b[38;5;124m\"\u001b[39m\u001b[38;5;124m(//b[contains(text(),\u001b[39m\u001b[38;5;124m'\u001b[39m\u001b[38;5;124mView\u001b[39m\u001b[38;5;124m'\u001b[39m\u001b[38;5;124m)])[\u001b[39m\u001b[38;5;132;01m{\u001b[39;00mc\u001b[38;5;241m%\u001b[39m\u001b[38;5;241m51\u001b[39m\u001b[38;5;132;01m}\u001b[39;00m\u001b[38;5;124m]\u001b[39m\u001b[38;5;124m\"\u001b[39m)))\u001b[38;5;241m.\u001b[39mclick()\n\u001b[0;32m      4\u001b[0m     wait3_\u001b[38;5;241m.\u001b[39muntil(EC\u001b[38;5;241m.\u001b[39melement_to_be_clickable((By\u001b[38;5;241m.\u001b[39mXPATH, \u001b[38;5;124m\"\u001b[39m\u001b[38;5;124m//td[normalize-space()=\u001b[39m\u001b[38;5;124m'\u001b[39m\u001b[38;5;124mView\u001b[39m\u001b[38;5;124m'\u001b[39m\u001b[38;5;124m]\u001b[39m\u001b[38;5;124m\"\u001b[39m)))\u001b[38;5;241m.\u001b[39mclick()\n\u001b[0;32m      5\u001b[0m     driver3\u001b[38;5;241m.\u001b[39mswitch_to\u001b[38;5;241m.\u001b[39mwindow(driver3\u001b[38;5;241m.\u001b[39mwindow_handles[\u001b[38;5;241m-\u001b[39m\u001b[38;5;241m1\u001b[39m])\n",
      "File \u001b[1;32m~\\anaconda3\\envs\\analytics\\Lib\\site-packages\\selenium\\webdriver\\remote\\webelement.py:94\u001b[0m, in \u001b[0;36mWebElement.click\u001b[1;34m(self)\u001b[0m\n\u001b[0;32m     92\u001b[0m \u001b[38;5;28;01mdef\u001b[39;00m \u001b[38;5;21mclick\u001b[39m(\u001b[38;5;28mself\u001b[39m) \u001b[38;5;241m-\u001b[39m\u001b[38;5;241m>\u001b[39m \u001b[38;5;28;01mNone\u001b[39;00m:\n\u001b[0;32m     93\u001b[0m \u001b[38;5;250m    \u001b[39m\u001b[38;5;124;03m\"\"\"Clicks the element.\"\"\"\u001b[39;00m\n\u001b[1;32m---> 94\u001b[0m     \u001b[38;5;28mself\u001b[39m\u001b[38;5;241m.\u001b[39m_execute(Command\u001b[38;5;241m.\u001b[39mCLICK_ELEMENT)\n",
      "File \u001b[1;32m~\\anaconda3\\envs\\analytics\\Lib\\site-packages\\selenium\\webdriver\\remote\\webelement.py:395\u001b[0m, in \u001b[0;36mWebElement._execute\u001b[1;34m(self, command, params)\u001b[0m\n\u001b[0;32m    393\u001b[0m     params \u001b[38;5;241m=\u001b[39m {}\n\u001b[0;32m    394\u001b[0m params[\u001b[38;5;124m\"\u001b[39m\u001b[38;5;124mid\u001b[39m\u001b[38;5;124m\"\u001b[39m] \u001b[38;5;241m=\u001b[39m \u001b[38;5;28mself\u001b[39m\u001b[38;5;241m.\u001b[39m_id\n\u001b[1;32m--> 395\u001b[0m \u001b[38;5;28;01mreturn\u001b[39;00m \u001b[38;5;28mself\u001b[39m\u001b[38;5;241m.\u001b[39m_parent\u001b[38;5;241m.\u001b[39mexecute(command, params)\n",
      "File \u001b[1;32m~\\anaconda3\\envs\\analytics\\Lib\\site-packages\\selenium\\webdriver\\remote\\webdriver.py:345\u001b[0m, in \u001b[0;36mWebDriver.execute\u001b[1;34m(self, driver_command, params)\u001b[0m\n\u001b[0;32m    343\u001b[0m response \u001b[38;5;241m=\u001b[39m \u001b[38;5;28mself\u001b[39m\u001b[38;5;241m.\u001b[39mcommand_executor\u001b[38;5;241m.\u001b[39mexecute(driver_command, params)\n\u001b[0;32m    344\u001b[0m \u001b[38;5;28;01mif\u001b[39;00m response:\n\u001b[1;32m--> 345\u001b[0m     \u001b[38;5;28mself\u001b[39m\u001b[38;5;241m.\u001b[39merror_handler\u001b[38;5;241m.\u001b[39mcheck_response(response)\n\u001b[0;32m    346\u001b[0m     response[\u001b[38;5;124m\"\u001b[39m\u001b[38;5;124mvalue\u001b[39m\u001b[38;5;124m\"\u001b[39m] \u001b[38;5;241m=\u001b[39m \u001b[38;5;28mself\u001b[39m\u001b[38;5;241m.\u001b[39m_unwrap_value(response\u001b[38;5;241m.\u001b[39mget(\u001b[38;5;124m\"\u001b[39m\u001b[38;5;124mvalue\u001b[39m\u001b[38;5;124m\"\u001b[39m, \u001b[38;5;28;01mNone\u001b[39;00m))\n\u001b[0;32m    347\u001b[0m     \u001b[38;5;28;01mreturn\u001b[39;00m response\n",
      "File \u001b[1;32m~\\anaconda3\\envs\\analytics\\Lib\\site-packages\\selenium\\webdriver\\remote\\errorhandler.py:229\u001b[0m, in \u001b[0;36mErrorHandler.check_response\u001b[1;34m(self, response)\u001b[0m\n\u001b[0;32m    227\u001b[0m         alert_text \u001b[38;5;241m=\u001b[39m value[\u001b[38;5;124m\"\u001b[39m\u001b[38;5;124malert\u001b[39m\u001b[38;5;124m\"\u001b[39m]\u001b[38;5;241m.\u001b[39mget(\u001b[38;5;124m\"\u001b[39m\u001b[38;5;124mtext\u001b[39m\u001b[38;5;124m\"\u001b[39m)\n\u001b[0;32m    228\u001b[0m     \u001b[38;5;28;01mraise\u001b[39;00m exception_class(message, screen, stacktrace, alert_text)  \u001b[38;5;66;03m# type: ignore[call-arg]  # mypy is not smart enough here\u001b[39;00m\n\u001b[1;32m--> 229\u001b[0m \u001b[38;5;28;01mraise\u001b[39;00m exception_class(message, screen, stacktrace)\n",
      "\u001b[1;31mElementClickInterceptedException\u001b[0m: Message: element click intercepted: Element <b style=\"color: blue; cursor: pointer;\">...</b> is not clickable at point (992, 7). Other element would receive the click: <nav class=\"navbar navbar-expand-lg ftco-navbar-light fixed-top\" id=\"ftco-navbar\">...</nav>\n  (Session info: chrome=115.0.5790.171)\nStacktrace:\nBacktrace:\n\tGetHandleVerifier [0x00007FF74F304A62+57106]\n\t(No symbol) [0x00007FF74F27CF52]\n\t(No symbol) [0x00007FF74F14E2CB]\n\t(No symbol) [0x00007FF74F18D290]\n\t(No symbol) [0x00007FF74F18B90D]\n\t(No symbol) [0x00007FF74F1898F5]\n\t(No symbol) [0x00007FF74F188B05]\n\t(No symbol) [0x00007FF74F17EE2F]\n\t(No symbol) [0x00007FF74F1A69BA]\n\t(No symbol) [0x00007FF74F17E746]\n\t(No symbol) [0x00007FF74F1A6BD0]\n\t(No symbol) [0x00007FF74F1BE522]\n\t(No symbol) [0x00007FF74F1A6793]\n\t(No symbol) [0x00007FF74F17CE81]\n\t(No symbol) [0x00007FF74F17E064]\n\tGetHandleVerifier [0x00007FF74F5B4222+2873042]\n\tGetHandleVerifier [0x00007FF74F606590+3209792]\n\tGetHandleVerifier [0x00007FF74F5FF3AF+3180639]\n\tGetHandleVerifier [0x00007FF74F395F25+652245]\n\t(No symbol) [0x00007FF74F288618]\n\t(No symbol) [0x00007FF74F2847C4]\n\t(No symbol) [0x00007FF74F2848BC]\n\t(No symbol) [0x00007FF74F274C33]\n\tBaseThreadInitThunk [0x00007FFD3FE574B4+20]\n\tRtlUserThreadStart [0x00007FFD401A26A1+33]\n"
     ]
    }
   ],
   "source": [
    "for b, c in zip(page_no, index_):\n",
    "    wait3_.until(EC.element_to_be_clickable((By.XPATH, f\"//a[normalize-space()='{b}']\"))).click()\n",
    "    WebDriverWait(driver3, 60).until(EC.element_to_be_clickable((By.XPATH, f\"(//b[contains(text(),'View')])[{c%51}]\"))).click()\n",
    "    wait3_.until(EC.element_to_be_clickable((By.XPATH, \"//td[normalize-space()='View']\"))).click()\n",
    "    driver3.switch_to.window(driver3.window_handles[-1])\n",
    "    urllib.request.urlretrieve(driver3.current_url, f\"{lst_[1+i*9]}.pdf\")\n",
    "    driver3.quit()\n",
    "    driver3.get(\"https://tenders.go.ke/OpenTenders\")\n",
    "driver3.quit()\n"
   ]
  },
  {
   "cell_type": "code",
   "execution_count": 37,
   "id": "5b63ff18",
   "metadata": {},
   "outputs": [
    {
     "data": {
      "text/plain": [
       "'about:blank'"
      ]
     },
     "execution_count": 37,
     "metadata": {},
     "output_type": "execute_result"
    }
   ],
   "source": [
    "driver3.current_url"
   ]
  },
  {
   "cell_type": "code",
   "execution_count": 129,
   "id": "57686ed2",
   "metadata": {},
   "outputs": [
    {
     "ename": "TimeoutException",
     "evalue": "Message: \nStacktrace:\nBacktrace:\n\tGetHandleVerifier [0x00007FF74F304A62+57106]\n\t(No symbol) [0x00007FF74F27CF52]\n\t(No symbol) [0x00007FF74F14E2CB]\n\t(No symbol) [0x00007FF74F18786E]\n\t(No symbol) [0x00007FF74F18795C]\n\t(No symbol) [0x00007FF74F1C0477]\n\t(No symbol) [0x00007FF74F1A69FF]\n\t(No symbol) [0x00007FF74F1BE522]\n\t(No symbol) [0x00007FF74F1A6793]\n\t(No symbol) [0x00007FF74F17CE81]\n\t(No symbol) [0x00007FF74F17E064]\n\tGetHandleVerifier [0x00007FF74F5B4222+2873042]\n\tGetHandleVerifier [0x00007FF74F606590+3209792]\n\tGetHandleVerifier [0x00007FF74F5FF3AF+3180639]\n\tGetHandleVerifier [0x00007FF74F395F25+652245]\n\t(No symbol) [0x00007FF74F288618]\n\t(No symbol) [0x00007FF74F2847C4]\n\t(No symbol) [0x00007FF74F2848BC]\n\t(No symbol) [0x00007FF74F274C33]\n\tBaseThreadInitThunk [0x00007FFD3FE574B4+20]\n\tRtlUserThreadStart [0x00007FFD401A26A1+33]\n",
     "output_type": "error",
     "traceback": [
      "\u001b[1;31m---------------------------------------------------------------------------\u001b[0m",
      "\u001b[1;31mTimeoutException\u001b[0m                          Traceback (most recent call last)",
      "Cell \u001b[1;32mIn[129], line 5\u001b[0m\n\u001b[0;32m      3\u001b[0m wait3_ \u001b[38;5;241m=\u001b[39m WebDriverWait(driver3, \u001b[38;5;241m5\u001b[39m)\n\u001b[0;32m      4\u001b[0m driver3\u001b[38;5;241m.\u001b[39mget(\u001b[38;5;124m\"\u001b[39m\u001b[38;5;124mhttps://tenders.go.ke/OpenTenders\u001b[39m\u001b[38;5;124m\"\u001b[39m)\n\u001b[1;32m----> 5\u001b[0m wait3_\u001b[38;5;241m.\u001b[39muntil(EC\u001b[38;5;241m.\u001b[39melement_to_be_clickable((By\u001b[38;5;241m.\u001b[39mXPATH, \u001b[38;5;124m\"\u001b[39m\u001b[38;5;124m//span[normalize-space()=\u001b[39m\u001b[38;5;124m'\u001b[39m\u001b[38;5;124mLatest Tenders\u001b[39m\u001b[38;5;124m'\u001b[39m\u001b[38;5;124m]\u001b[39m\u001b[38;5;124m\"\u001b[39m)))\u001b[38;5;241m.\u001b[39mclick()\n\u001b[0;32m      6\u001b[0m driver3\u001b[38;5;241m.\u001b[39mimplicitly_wait(\u001b[38;5;241m3\u001b[39m)\n\u001b[0;32m      7\u001b[0m wait3_\u001b[38;5;241m.\u001b[39muntil(EC\u001b[38;5;241m.\u001b[39melement_to_be_clickable((By\u001b[38;5;241m.\u001b[39mXPATH, \u001b[38;5;124mf\u001b[39m\u001b[38;5;124m\"\u001b[39m\u001b[38;5;124m//tbody/tr[\u001b[39m\u001b[38;5;132;01m{\u001b[39;00mx\u001b[38;5;241m%\u001b[39m\u001b[38;5;241m50\u001b[39m\u001b[38;5;132;01m}\u001b[39;00m\u001b[38;5;124m]/td[9]/div[1]/b[1]\u001b[39m\u001b[38;5;124m\"\u001b[39m)))\u001b[38;5;241m.\u001b[39mclick()\n",
      "File \u001b[1;32m~\\anaconda3\\envs\\analytics\\Lib\\site-packages\\selenium\\webdriver\\support\\wait.py:95\u001b[0m, in \u001b[0;36mWebDriverWait.until\u001b[1;34m(self, method, message)\u001b[0m\n\u001b[0;32m     93\u001b[0m     \u001b[38;5;28;01mif\u001b[39;00m time\u001b[38;5;241m.\u001b[39mmonotonic() \u001b[38;5;241m>\u001b[39m end_time:\n\u001b[0;32m     94\u001b[0m         \u001b[38;5;28;01mbreak\u001b[39;00m\n\u001b[1;32m---> 95\u001b[0m \u001b[38;5;28;01mraise\u001b[39;00m TimeoutException(message, screen, stacktrace)\n",
      "\u001b[1;31mTimeoutException\u001b[0m: Message: \nStacktrace:\nBacktrace:\n\tGetHandleVerifier [0x00007FF74F304A62+57106]\n\t(No symbol) [0x00007FF74F27CF52]\n\t(No symbol) [0x00007FF74F14E2CB]\n\t(No symbol) [0x00007FF74F18786E]\n\t(No symbol) [0x00007FF74F18795C]\n\t(No symbol) [0x00007FF74F1C0477]\n\t(No symbol) [0x00007FF74F1A69FF]\n\t(No symbol) [0x00007FF74F1BE522]\n\t(No symbol) [0x00007FF74F1A6793]\n\t(No symbol) [0x00007FF74F17CE81]\n\t(No symbol) [0x00007FF74F17E064]\n\tGetHandleVerifier [0x00007FF74F5B4222+2873042]\n\tGetHandleVerifier [0x00007FF74F606590+3209792]\n\tGetHandleVerifier [0x00007FF74F5FF3AF+3180639]\n\tGetHandleVerifier [0x00007FF74F395F25+652245]\n\t(No symbol) [0x00007FF74F288618]\n\t(No symbol) [0x00007FF74F2847C4]\n\t(No symbol) [0x00007FF74F2848BC]\n\t(No symbol) [0x00007FF74F274C33]\n\tBaseThreadInitThunk [0x00007FFD3FE574B4+20]\n\tRtlUserThreadStart [0x00007FFD401A26A1+33]\n"
     ]
    }
   ],
   "source": [
    "x=32\n",
    "driver3 = webdriver.Chrome()\n",
    "wait3_ = WebDriverWait(driver3, 5)\n",
    "driver3.get(\"https://tenders.go.ke/OpenTenders\")\n",
    "wait3_.until(EC.element_to_be_clickable((By.XPATH, \"//span[normalize-space()='Latest Tenders']\"))).click()\n",
    "driver3.implicitly_wait(3)\n",
    "\n",
    "wait3_.until(EC.element_to_be_clickable((By.XPATH, f\"//tbody/tr[{x%50}]/td[9]/div[1]/b[1]\"))).click()\n",
    "wait3_.until(EC.element_to_be_clickable((By.XPATH, \"//td[normalize-space()='View']\"))).click()\n",
    "driver3.switch_to.window(driver3.window_handles[-1])\n",
    "urllib.request.urlretrieve(driver3.current_url, f\"{lst_[1+x*9]}.pdf\")"
   ]
  }
 ],
 "metadata": {
  "kernelspec": {
   "display_name": "Python 3 (ipykernel)",
   "language": "python",
   "name": "python3"
  },
  "language_info": {
   "codemirror_mode": {
    "name": "ipython",
    "version": 3
   },
   "file_extension": ".py",
   "mimetype": "text/x-python",
   "name": "python",
   "nbconvert_exporter": "python",
   "pygments_lexer": "ipython3",
   "version": "3.11.4"
  }
 },
 "nbformat": 4,
 "nbformat_minor": 5
}
